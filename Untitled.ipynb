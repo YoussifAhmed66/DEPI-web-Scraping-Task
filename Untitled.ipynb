{
 "cells": [
  {
   "cell_type": "code",
   "execution_count": 6,
   "id": "becfa2c2-dd72-4ba4-9520-cbd6ea108fd8",
   "metadata": {},
   "outputs": [],
   "source": [
    "from bs4 import BeautifulSoup\n",
    "import requests\n",
    "import csv\n",
    "\n",
    "url = \"https://baraasalout.github.io/test.html\"\n",
    "request = requests.get(url)\n",
    "soup = BeautifulSoup(request.content, 'html.parser')\n"
   ]
  },
  {
   "cell_type": "code",
   "execution_count": 7,
   "id": "01f1c92e-19e6-42b5-9e49-2b3500232ac8",
   "metadata": {},
   "outputs": [],
   "source": [
    "def extractText():\n",
    "    data = []\n",
    "    fields = ['Type', 'Content']\n",
    "\n",
    "    \n",
    "    h1 = soup.find_all(\"h1\")\n",
    "    h2 = soup.find_all(\"h2\")\n",
    "    p = soup.find_all(\"p\")\n",
    "    li = soup.find_all(\"li\")\n",
    "\n",
    "    print(\"All h1: \")\n",
    "    for i in h1:\n",
    "        print(i.text)\n",
    "        data.append({\"Type\": \"Heading 1\", \"Content\": i.text})\n",
    "\n",
    "    print(\"\\n All h2: \")\n",
    "    for i in h2:\n",
    "        print(i.text)\n",
    "        data.append({\"Type\": \"Heading 2\", \"Content\": i.text})\n",
    "\n",
    "    print(\"\\n All p: \")\n",
    "    for i in p:\n",
    "        print(i.text)\n",
    "        data.append({\"Type\": \"Paragragh\", \"Content\": i.text})\n",
    "\n",
    "    print(\"\\n All li: \")\n",
    "    for i in li:\n",
    "        print(i.text)\n",
    "        data.append({\"Type\": \"List item\", \"Content\": i.text})\n",
    "\n",
    "    with open('Extract_Text_data.csv', 'w', newline = '', encoding = 'utf-8') as file:\n",
    "        writer = csv.DictWriter(file, fieldnames=fields)\n",
    "        writer.writeheader()\n",
    "        writer.writerows(data)"
   ]
  },
  {
   "cell_type": "code",
   "execution_count": 8,
   "id": "1f1d44a3-9717-4138-8400-995eac3a3b47",
   "metadata": {},
   "outputs": [
    {
     "name": "stdout",
     "output_type": "stream",
     "text": [
      "All h1: \n",
      "Web Scraping Practice\n",
      "\n",
      " All h2: \n",
      "Available Products\n",
      "Product Table\n",
      "Watch This Video\n",
      "Contact Us\n",
      "Product Information\n",
      "Featured Products\n",
      "\n",
      " All p: \n",
      "Welcome to the web scraping task! Use your skills to extract the required data from this page.\n",
      "Sharp Objects\n",
      "£47.82\n",
      "✔ In stock\n",
      "In a Dark, Dark Wood\n",
      "£19.63\n",
      "✔ In stock\n",
      "The Past Never Ends\n",
      "£56.50\n",
      "✔ In stock\n",
      "A Murder in Time\n",
      "£16.64\n",
      " Out stock\n",
      "Wireless Headphones\n",
      "$49.99\n",
      "Available colors: Black, White, Blue\n",
      "Smart Speaker\n",
      "$89.99\n",
      "Available colors: Grey, Black\n",
      "Smart Watch\n",
      "$149.99\n",
      "Available colors: Black, Silver, Gold\n",
      "© 2024 Web Scraping Practice. All Rights Reserved.\n",
      "\n",
      " All li: \n",
      "Laptop\n",
      "Smartphone\n",
      "Tablet\n",
      "Smartwatch\n"
     ]
    }
   ],
   "source": [
    "extractText()"
   ]
  }
 ],
 "metadata": {
  "kernelspec": {
   "display_name": "Python 3 (ipykernel)",
   "language": "python",
   "name": "python3"
  },
  "language_info": {
   "codemirror_mode": {
    "name": "ipython",
    "version": 3
   },
   "file_extension": ".py",
   "mimetype": "text/x-python",
   "name": "python",
   "nbconvert_exporter": "python",
   "pygments_lexer": "ipython3",
   "version": "3.13.5"
  }
 },
 "nbformat": 4,
 "nbformat_minor": 5
}
