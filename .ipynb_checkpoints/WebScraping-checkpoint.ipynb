{
 "cells": [
  {
   "cell_type": "code",
   "execution_count": 47,
   "id": "e6cfcc3a-76e3-46fd-8e1d-0d9f87f0617f",
   "metadata": {},
   "outputs": [],
   "source": [
    "from bs4 import BeautifulSoup\n",
    "import requests\n",
    "import csv\n",
    "import json"
   ]
  },
  {
   "cell_type": "code",
   "execution_count": 48,
   "id": "0b509e76-32c8-4cdb-8c81-4c7f5b29a63f",
   "metadata": {},
   "outputs": [],
   "source": [
    "url = \"https://baraasalout.github.io/test.html\"\n",
    "request = requests.get(url)\n",
    "soup = BeautifulSoup(request.content, 'html.parser')"
   ]
  },
  {
   "cell_type": "code",
   "execution_count": 2,
   "id": "01f1c92e-19e6-42b5-9e49-2b3500232ac8",
   "metadata": {},
   "outputs": [],
   "source": [
    "def extractText():\n",
    "    data = []\n",
    "    fields = ['Type', 'Content']\n",
    "\n",
    "    \n",
    "    h1 = soup.find_all(\"h1\")\n",
    "    h2 = soup.find_all(\"h2\")\n",
    "    p = soup.find_all(\"p\")\n",
    "    li = soup.find_all(\"li\")\n",
    "\n",
    "    print(\"All h1: \")\n",
    "    for i in h1:\n",
    "        print(i.text)\n",
    "        data.append({\"Type\": \"Heading 1\", \"Content\": i.text})\n",
    "\n",
    "    print(\"\\n All h2: \")\n",
    "    for i in h2:\n",
    "        print(i.text)\n",
    "        data.append({\"Type\": \"Heading 2\", \"Content\": i.text})\n",
    "\n",
    "    print(\"\\n All p: \")\n",
    "    for i in p:\n",
    "        print(i.text)\n",
    "        data.append({\"Type\": \"Paragragh\", \"Content\": i.text})\n",
    "\n",
    "    print(\"\\n All li: \")\n",
    "    for i in li:\n",
    "        print(i.text)\n",
    "        data.append({\"Type\": \"List item\", \"Content\": i.text})\n",
    "\n",
    "    with open('Extract_Text_data.csv', 'w', newline = '', encoding = 'utf-8') as file:\n",
    "        writer = csv.DictWriter(file, fieldnames=fields)\n",
    "        writer.writeheader()\n",
    "        writer.writerows(data)"
   ]
  },
  {
   "cell_type": "code",
   "execution_count": 3,
   "id": "1f1d44a3-9717-4138-8400-995eac3a3b47",
   "metadata": {},
   "outputs": [
    {
     "name": "stdout",
     "output_type": "stream",
     "text": [
      "All h1: \n",
      "Web Scraping Practice\n",
      "\n",
      " All h2: \n",
      "Available Products\n",
      "Product Table\n",
      "Watch This Video\n",
      "Contact Us\n",
      "Product Information\n",
      "Featured Products\n",
      "\n",
      " All p: \n",
      "Welcome to the web scraping task! Use your skills to extract the required data from this page.\n",
      "Sharp Objects\n",
      "£47.82\n",
      "✔ In stock\n",
      "In a Dark, Dark Wood\n",
      "£19.63\n",
      "✔ In stock\n",
      "The Past Never Ends\n",
      "£56.50\n",
      "✔ In stock\n",
      "A Murder in Time\n",
      "£16.64\n",
      " Out stock\n",
      "Wireless Headphones\n",
      "$49.99\n",
      "Available colors: Black, White, Blue\n",
      "Smart Speaker\n",
      "$89.99\n",
      "Available colors: Grey, Black\n",
      "Smart Watch\n",
      "$149.99\n",
      "Available colors: Black, Silver, Gold\n",
      "© 2024 Web Scraping Practice. All Rights Reserved.\n",
      "\n",
      " All li: \n",
      "Laptop\n",
      "Smartphone\n",
      "Tablet\n",
      "Smartwatch\n"
     ]
    }
   ],
   "source": [
    "extractText()"
   ]
  },
  {
   "cell_type": "code",
   "execution_count": 4,
   "id": "a76df31e-2ace-4751-a305-c2424c386db8",
   "metadata": {},
   "outputs": [],
   "source": [
    "def extractTable():\n",
    "    data = []\n",
    "    table = soup.find('table')\n",
    "    rows = table.find_all('tr')\n",
    "    \n",
    "    # fields = [ td.text for td in row[0]]\n",
    "    fields = [\"Product\", 'Price', \"In Stock\"]\n",
    "\n",
    "    for i in range(1, len(rows)):\n",
    "        # print (rows[i].find_all('td'))\n",
    "        cells = rows[i].find_all('td')\n",
    "        # print(cells[0])\n",
    "        data.append({\"Product\": cells[0].text, \"Price\": cells[1].text, \"In Stock\": cells[2].text})\n",
    "        \n",
    "        with open('Extract_Table_Data.csv', 'w', newline = '', encoding = 'utf-8') as file: \n",
    "            writer = csv.DictWriter(file, fieldnames = fields)\n",
    "            writer.writeheader()\n",
    "            writer.writerows(data)\n",
    "    print(data)\n",
    "    # print(fields)"
   ]
  },
  {
   "cell_type": "code",
   "execution_count": 5,
   "id": "beb3889b-ba79-48b7-985a-da0724fd2d24",
   "metadata": {},
   "outputs": [
    {
     "name": "stdout",
     "output_type": "stream",
     "text": [
      "[{'Product': 'Laptop', 'Price': '$1000', 'In Stock': 'Yes'}, {'Product': 'Smartphone', 'Price': '$800', 'In Stock': 'No'}, {'Product': 'Tablet', 'Price': '$500', 'In Stock': 'Yes'}]\n"
     ]
    }
   ],
   "source": [
    "extractTable()"
   ]
  },
  {
   "cell_type": "code",
   "execution_count": 53,
   "id": "a1ba4e15-444b-4fc8-b52a-2f4cf7e9c1c7",
   "metadata": {},
   "outputs": [],
   "source": [
    "def extractBookCards():\n",
    "    data = []\n",
    "    fields = [\"Book title\", \"Price\", 'Stock availablity', 'Button text']\n",
    "    cardsContainer = soup.find(\"div\", class_='book-products')\n",
    "    cards = cardsContainer.find_all('div')\n",
    "    for card in cards:\n",
    "        p = card.find_all('p')\n",
    "        button = card.find('button')\n",
    "\n",
    "        data.append({'Book title':p[0].text, 'Price': p[1].text, 'Stock availablity': p[2].text, \"Button text\": button.text })\n",
    "    for i in data:\n",
    "        print(i)\n",
    "    # print(data)\n",
    "\n",
    "    with open(\"Product_Information.json\", 'w') as file:\n",
    "        json.dump(data, file)\n"
   ]
  },
  {
   "cell_type": "code",
   "execution_count": 54,
   "id": "163cede2-28cc-47b7-bdc4-798ee67ae296",
   "metadata": {},
   "outputs": [
    {
     "name": "stdout",
     "output_type": "stream",
     "text": [
      "{'Book title': 'Sharp Objects', 'Price': '£47.82', 'Stock availablity': '✔ In stock', 'Button text': 'Add to basket'}\n",
      "{'Book title': 'In a Dark, Dark Wood', 'Price': '£19.63', 'Stock availablity': '✔ In stock', 'Button text': 'Add to basket'}\n",
      "{'Book title': 'The Past Never Ends', 'Price': '£56.50', 'Stock availablity': '✔ In stock', 'Button text': 'Add to basket'}\n",
      "{'Book title': 'A Murder in Time', 'Price': '£16.64', 'Stock availablity': ' Out stock', 'Button text': 'Add to basket'}\n"
     ]
    }
   ],
   "source": [
    "extractBookCards()"
   ]
  },
  {
   "cell_type": "code",
   "execution_count": 159,
   "id": "4801e5fa-0ce4-442b-b044-8f5e9de38ed8",
   "metadata": {},
   "outputs": [],
   "source": [
    "def extractFormDetails():\n",
    "    data = []\n",
    "    fields = [\"Field name\", \"Input type\", 'Default value', 'Place holder']\n",
    "    \n",
    "    form = soup.find('form')\n",
    "    inputs = form.find_all(True)\n",
    "    # inputs = form.find_all('input')\n",
    "    # options = form.find('select').find_all('option')\n",
    "    \n",
    "    \n",
    "    cleanInputs = [i for i in inputs if i.name != 'label']\n",
    "    for i in cleanInputs:\n",
    "        inputType = i.get('type') or i.name\n",
    "        data.append({\"Field name\": i.get('name'), \"Input type\": inputType, \"Default value\": i.get(\"value\"), \"Place holder\": i.get(\"placeholder\")})\n",
    "        # print(i)\n",
    "\n",
    "\n",
    "    #trying to get the checkbox but it doesn't work\n",
    "    for i in inputs:\n",
    "        labels = i.find_all('label')\n",
    "        \n",
    "        for j in labels:\n",
    "            checkbox = j.find('input', {'type': 'checkbox'})\n",
    "            if checkbox:\n",
    "                data.append({\"Field name\": checkbox.get('name'), \"Input type\": \"checkbox\", \"Default value\": checkbox.get(\"value\"), \"Place holder\": checkbox.get(\"placeholder\")})\n",
    "            \n",
    "    with open('Extract_Form_details.json', 'w') as file:\n",
    "        json.dump(data, file)\n",
    "    \n",
    "    for i in data:\n",
    "        print(i)\n",
    "    # print(cleanInputs)"
   ]
  },
  {
   "cell_type": "code",
   "execution_count": 160,
   "id": "c68f6bfa-85b2-462b-b4d3-830cff55ad97",
   "metadata": {},
   "outputs": [
    {
     "name": "stdout",
     "output_type": "stream",
     "text": [
      "{'Field name': 'username', 'Input type': 'text', 'Default value': None, 'Place holder': 'Enter your username'}\n",
      "{'Field name': 'password', 'Input type': 'password', 'Default value': None, 'Place holder': 'Enter your password'}\n",
      "{'Field name': 'options', 'Input type': 'select', 'Default value': None, 'Place holder': None}\n",
      "{'Field name': None, 'Input type': 'option', 'Default value': 'option1', 'Place holder': None}\n",
      "{'Field name': None, 'Input type': 'option', 'Default value': 'option2', 'Place holder': None}\n",
      "{'Field name': None, 'Input type': 'option', 'Default value': 'option3', 'Place holder': None}\n",
      "{'Field name': None, 'Input type': 'submit', 'Default value': 'Submit', 'Place holder': None}\n"
     ]
    }
   ],
   "source": [
    "extractFormDetails()"
   ]
  },
  {
   "cell_type": "code",
   "execution_count": null,
   "id": "380d52f1-a8fd-4e41-8644-47cdb8a9df57",
   "metadata": {},
   "outputs": [],
   "source": []
  }
 ],
 "metadata": {
  "kernelspec": {
   "display_name": "Python 3 (ipykernel)",
   "language": "python",
   "name": "python3"
  },
  "language_info": {
   "codemirror_mode": {
    "name": "ipython",
    "version": 3
   },
   "file_extension": ".py",
   "mimetype": "text/x-python",
   "name": "python",
   "nbconvert_exporter": "python",
   "pygments_lexer": "ipython3",
   "version": "3.13.5"
  }
 },
 "nbformat": 4,
 "nbformat_minor": 5
}
